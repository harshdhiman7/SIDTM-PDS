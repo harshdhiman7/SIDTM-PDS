{
  "nbformat": 4,
  "nbformat_minor": 0,
  "metadata": {
    "colab": {
      "provenance": [],
      "authorship_tag": "ABX9TyOERcj1gN2nAWpvP5kLTdEG",
      "include_colab_link": true
    },
    "kernelspec": {
      "name": "python3",
      "display_name": "Python 3"
    },
    "language_info": {
      "name": "python"
    }
  },
  "cells": [
    {
      "cell_type": "markdown",
      "metadata": {
        "id": "view-in-github",
        "colab_type": "text"
      },
      "source": [
        "<a href=\"https://colab.research.google.com/github/harshdhiman7/SIDTM-PDS/blob/main/NumPy_Fundamentals.ipynb\" target=\"_parent\"><img src=\"https://colab.research.google.com/assets/colab-badge.svg\" alt=\"Open In Colab\"/></a>"
      ]
    },
    {
      "cell_type": "markdown",
      "source": [
        "#Create NumPy array\n"
      ],
      "metadata": {
        "id": "4oqhuvH7Mflc"
      }
    },
    {
      "cell_type": "code",
      "execution_count": 52,
      "metadata": {
        "colab": {
          "base_uri": "https://localhost:8080/"
        },
        "id": "4ub8z2kYK5L6",
        "outputId": "0c0c1938-75a5-47b7-ca06-ba73f34cf408"
      },
      "outputs": [
        {
          "output_type": "stream",
          "name": "stdout",
          "text": [
            "[1 2 3 4 5]\n"
          ]
        }
      ],
      "source": [
        "import numpy as np\n",
        "\n",
        "# Creating an array from a list\n",
        "arr = np.array([1, 2, 3, 4, 5])\n",
        "print(arr)"
      ]
    },
    {
      "cell_type": "markdown",
      "source": [
        "## Creating an array of zeros"
      ],
      "metadata": {
        "id": "foaIVtRZMkZf"
      }
    },
    {
      "cell_type": "code",
      "source": [
        "arr_zeros = np.zeros((3, 4))\n",
        "print(arr_zeros)"
      ],
      "metadata": {
        "colab": {
          "base_uri": "https://localhost:8080/"
        },
        "id": "2YBJQFHSMqA6",
        "outputId": "64f3b6a5-57f7-4236-f85b-3d05dbf255e6"
      },
      "execution_count": 53,
      "outputs": [
        {
          "output_type": "stream",
          "name": "stdout",
          "text": [
            "[[0. 0. 0. 0.]\n",
            " [0. 0. 0. 0.]\n",
            " [0. 0. 0. 0.]]\n"
          ]
        }
      ]
    },
    {
      "cell_type": "markdown",
      "source": [
        "# Creating an array of ones"
      ],
      "metadata": {
        "id": "RsOR_z4aMrnO"
      }
    },
    {
      "cell_type": "code",
      "source": [
        "arr_ones = np.ones((2, 3))\n",
        "print(arr_ones)"
      ],
      "metadata": {
        "colab": {
          "base_uri": "https://localhost:8080/"
        },
        "id": "n8dE3_EbMv2l",
        "outputId": "c4f018a2-09ac-433e-cbbf-396f0687fd19"
      },
      "execution_count": 54,
      "outputs": [
        {
          "output_type": "stream",
          "name": "stdout",
          "text": [
            "[[1. 1. 1.]\n",
            " [1. 1. 1.]]\n"
          ]
        }
      ]
    },
    {
      "cell_type": "markdown",
      "source": [
        "# Creating an empty array"
      ],
      "metadata": {
        "id": "ZDttuLkcMwzh"
      }
    },
    {
      "cell_type": "code",
      "source": [
        "arr_empty = np.empty((2, 2))\n",
        "print(arr_empty)"
      ],
      "metadata": {
        "colab": {
          "base_uri": "https://localhost:8080/"
        },
        "id": "WD95M17OM0ny",
        "outputId": "29baddae-a3e8-41e6-d6b4-2d2d5500b851"
      },
      "execution_count": 55,
      "outputs": [
        {
          "output_type": "stream",
          "name": "stdout",
          "text": [
            "[[2.5e-323 3.0e-323]\n",
            " [3.5e-323 4.0e-323]]\n"
          ]
        }
      ]
    },
    {
      "cell_type": "markdown",
      "source": [
        "# Creating a full array with a specified value"
      ],
      "metadata": {
        "id": "lsMWYq4oM2hK"
      }
    },
    {
      "cell_type": "code",
      "source": [
        "arr_full = np.full((2, 3), 7)\n",
        "print(arr_full)"
      ],
      "metadata": {
        "colab": {
          "base_uri": "https://localhost:8080/"
        },
        "id": "QgIPaoMyM53t",
        "outputId": "b2c69f2e-4077-43e0-d369-a5821c3427f2"
      },
      "execution_count": 56,
      "outputs": [
        {
          "output_type": "stream",
          "name": "stdout",
          "text": [
            "[[7 7 7]\n",
            " [7 7 7]]\n"
          ]
        }
      ]
    },
    {
      "cell_type": "markdown",
      "source": [
        "# Creating an array with a range of values"
      ],
      "metadata": {
        "id": "e4NCRgXyM6rB"
      }
    },
    {
      "cell_type": "code",
      "source": [
        "arr_arange = np.arange(0, 10, 2)\n",
        "print(arr_arange)"
      ],
      "metadata": {
        "colab": {
          "base_uri": "https://localhost:8080/"
        },
        "id": "h1PArA3SM9v5",
        "outputId": "4574048b-16ef-4dd5-fced-abb065ee2eac"
      },
      "execution_count": 57,
      "outputs": [
        {
          "output_type": "stream",
          "name": "stdout",
          "text": [
            "[0 2 4 6 8]\n"
          ]
        }
      ]
    },
    {
      "cell_type": "markdown",
      "source": [
        "# Creating an array with linearly spaced values"
      ],
      "metadata": {
        "id": "HHmVCn1jM-is"
      }
    },
    {
      "cell_type": "code",
      "source": [
        "arr_linspace = np.linspace(0, 1, 5)\n",
        "print(arr_linspace)"
      ],
      "metadata": {
        "colab": {
          "base_uri": "https://localhost:8080/"
        },
        "id": "ma5-NfKiNBMA",
        "outputId": "d8e06a12-3e72-4e34-eb20-483d8c869dc2"
      },
      "execution_count": 58,
      "outputs": [
        {
          "output_type": "stream",
          "name": "stdout",
          "text": [
            "[0.   0.25 0.5  0.75 1.  ]\n"
          ]
        }
      ]
    },
    {
      "cell_type": "markdown",
      "source": [
        "# Creating an identity matrix\n"
      ],
      "metadata": {
        "id": "-DOEj8zXNCnm"
      }
    },
    {
      "cell_type": "code",
      "source": [
        "arr_eye = np.eye(3)\n",
        "print(arr_eye)"
      ],
      "metadata": {
        "colab": {
          "base_uri": "https://localhost:8080/"
        },
        "id": "DV5Ec1fwNGxx",
        "outputId": "a82195bd-0428-4d07-ab2e-985d4011224d"
      },
      "execution_count": 59,
      "outputs": [
        {
          "output_type": "stream",
          "name": "stdout",
          "text": [
            "[[1. 0. 0.]\n",
            " [0. 1. 0.]\n",
            " [0. 0. 1.]]\n"
          ]
        }
      ]
    },
    {
      "cell_type": "markdown",
      "source": [
        "# Creating an array with random values between 0 and 1"
      ],
      "metadata": {
        "id": "KovqR3YlNHwQ"
      }
    },
    {
      "cell_type": "code",
      "source": [
        "arr_rand = np.random.rand(3, 2)\n",
        "print(arr_rand)"
      ],
      "metadata": {
        "colab": {
          "base_uri": "https://localhost:8080/"
        },
        "id": "PlvDzNsVNLRS",
        "outputId": "c8b27cc5-c228-4c50-be6a-806ffa1c1766"
      },
      "execution_count": 60,
      "outputs": [
        {
          "output_type": "stream",
          "name": "stdout",
          "text": [
            "[[0.11758322 0.77400267]\n",
            " [0.71520268 0.18627533]\n",
            " [0.26609177 0.50167998]]\n"
          ]
        }
      ]
    },
    {
      "cell_type": "markdown",
      "source": [
        "# Creating an array with random values from a standard normal distribution"
      ],
      "metadata": {
        "id": "15AdR4bqNMFF"
      }
    },
    {
      "cell_type": "code",
      "source": [
        "arr_randn = np.random.randn(3, 2)\n",
        "print(arr_randn)"
      ],
      "metadata": {
        "colab": {
          "base_uri": "https://localhost:8080/"
        },
        "id": "rhbpjldPNPHG",
        "outputId": "f7402113-1e1a-438a-e080-db1131b8d872"
      },
      "execution_count": 61,
      "outputs": [
        {
          "output_type": "stream",
          "name": "stdout",
          "text": [
            "[[ 0.09043435  0.27531577]\n",
            " [ 1.08092244 -0.43134942]\n",
            " [ 1.7758402   0.44861682]]\n"
          ]
        }
      ]
    },
    {
      "cell_type": "markdown",
      "source": [
        "# Creating an array with random integers"
      ],
      "metadata": {
        "id": "NBb-g0YlNQ-W"
      }
    },
    {
      "cell_type": "code",
      "source": [
        "arr_randint = np.random.randint(0, 10, (3, 3))\n",
        "print(arr_randint)"
      ],
      "metadata": {
        "colab": {
          "base_uri": "https://localhost:8080/"
        },
        "id": "Yy-GtVb2NUTZ",
        "outputId": "f2a44458-36f0-4c79-fae5-e8c6dc77b5ea"
      },
      "execution_count": 62,
      "outputs": [
        {
          "output_type": "stream",
          "name": "stdout",
          "text": [
            "[[7 6 0]\n",
            " [6 5 9]\n",
            " [1 7 9]]\n"
          ]
        }
      ]
    },
    {
      "cell_type": "markdown",
      "source": [
        "# Creating an array with random samples from a given 1-D array"
      ],
      "metadata": {
        "id": "C6jP5szrNVE6"
      }
    },
    {
      "cell_type": "code",
      "source": [
        "arr_choice = np.random.choice([1, 2, 3, 4, 5], size=3)\n",
        "print(arr_choice)"
      ],
      "metadata": {
        "colab": {
          "base_uri": "https://localhost:8080/"
        },
        "id": "08Q0ig1nNYXS",
        "outputId": "2d0c3315-1a8d-443c-ac20-84e14e622f43"
      },
      "execution_count": 63,
      "outputs": [
        {
          "output_type": "stream",
          "name": "stdout",
          "text": [
            "[5 1 2]\n"
          ]
        }
      ]
    },
    {
      "cell_type": "markdown",
      "source": [
        "#Array Manipulation"
      ],
      "metadata": {
        "id": "r3pqwCA3NaBB"
      }
    },
    {
      "cell_type": "code",
      "source": [
        "import numpy as np\n",
        "\n",
        "# Creating initial arrays for manipulation\n",
        "arr = np.array([[1, 2, 3], [4, 5, 6]])\n",
        "arr_3d = np.array([[[1, 2], [3, 4]], [[5, 6], [7, 8]]])\n",
        "\n",
        "# np.reshape()\n",
        "reshaped = np.reshape(arr, (3, 2))\n",
        "print(\"Reshaped:\\n\", reshaped)\n",
        "\n",
        "# np.ravel()\n",
        "raveled = np.ravel(arr)\n",
        "print(\"Raveled:\\n\", raveled)\n",
        "\n",
        "# np.flatten()\n",
        "flattened = arr.flatten()\n",
        "print(\"Flattened:\\n\", flattened)\n",
        "\n",
        "# np.transpose()\n",
        "transposed = np.transpose(arr)\n",
        "print(\"Transposed:\\n\", transposed)\n",
        "\n",
        "# np.swapaxes()\n",
        "swapped = np.swapaxes(arr_3d, 0, 2)\n",
        "print(\"Swapped axes:\\n\", swapped)\n",
        "\n",
        "# np.concatenate()\n",
        "arr1 = np.array([[1, 2], [3, 4]])\n",
        "arr2 = np.array([[5, 6], [7, 8]])\n",
        "concatenated = np.concatenate((arr1, arr2), axis=0)\n",
        "print(\"Concatenated:\\n\", concatenated)"
      ],
      "metadata": {
        "colab": {
          "base_uri": "https://localhost:8080/"
        },
        "id": "uuWVqsXwOL45",
        "outputId": "2517e526-9402-4f95-b2cb-470b0e40202e"
      },
      "execution_count": 64,
      "outputs": [
        {
          "output_type": "stream",
          "name": "stdout",
          "text": [
            "Reshaped:\n",
            " [[1 2]\n",
            " [3 4]\n",
            " [5 6]]\n",
            "Raveled:\n",
            " [1 2 3 4 5 6]\n",
            "Flattened:\n",
            " [1 2 3 4 5 6]\n",
            "Transposed:\n",
            " [[1 4]\n",
            " [2 5]\n",
            " [3 6]]\n",
            "Swapped axes:\n",
            " [[[1 5]\n",
            "  [3 7]]\n",
            "\n",
            " [[2 6]\n",
            "  [4 8]]]\n",
            "Concatenated:\n",
            " [[1 2]\n",
            " [3 4]\n",
            " [5 6]\n",
            " [7 8]]\n"
          ]
        }
      ]
    },
    {
      "cell_type": "code",
      "source": [
        "# np.stack()\n",
        "stacked = np.stack((arr1, arr2), axis=1)\n",
        "print(\"Stacked:\\n\", stacked)\n",
        "\n",
        "# np.hstack()\n",
        "hstacked = np.hstack((arr1, arr2))\n",
        "print(\"Horizontally Stacked:\\n\", hstacked)"
      ],
      "metadata": {
        "colab": {
          "base_uri": "https://localhost:8080/"
        },
        "id": "iUoaIPDnOd7U",
        "outputId": "ff6102aa-afe9-479d-f015-bec7b9225dd6"
      },
      "execution_count": 65,
      "outputs": [
        {
          "output_type": "stream",
          "name": "stdout",
          "text": [
            "Stacked:\n",
            " [[[1 2]\n",
            "  [5 6]]\n",
            "\n",
            " [[3 4]\n",
            "  [7 8]]]\n",
            "Horizontally Stacked:\n",
            " [[1 2 5 6]\n",
            " [3 4 7 8]]\n"
          ]
        }
      ]
    },
    {
      "cell_type": "code",
      "source": [
        "# np.vstack()\n",
        "vstacked = np.vstack((arr1, arr2))\n",
        "print(\"Vertically Stacked:\\n\", vstacked)\n",
        "\n",
        "# np.dstack()\n",
        "dstacked = np.dstack((arr1, arr2))\n",
        "print(\"Depth Stacked:\\n\", dstacked)"
      ],
      "metadata": {
        "colab": {
          "base_uri": "https://localhost:8080/"
        },
        "id": "vRr4lkQEOxng",
        "outputId": "6b88b30a-dc1f-49b8-b81d-b6d41995a7eb"
      },
      "execution_count": 66,
      "outputs": [
        {
          "output_type": "stream",
          "name": "stdout",
          "text": [
            "Vertically Stacked:\n",
            " [[1 2]\n",
            " [3 4]\n",
            " [5 6]\n",
            " [7 8]]\n",
            "Depth Stacked:\n",
            " [[[1 5]\n",
            "  [2 6]]\n",
            "\n",
            " [[3 7]\n",
            "  [4 8]]]\n"
          ]
        }
      ]
    },
    {
      "cell_type": "code",
      "source": [
        "# np.split()\n",
        "split_arr = np.array([1, 2, 3, 4, 5, 6])\n",
        "splitted = np.split(split_arr, 3)\n",
        "print(\"Split:\\n\", splitted)\n",
        "\n",
        "# np.hsplit()\n",
        "hsplit_arr = np.array([[1, 2, 3], [4, 5, 6]])\n",
        "hsplitted = np.hsplit(hsplit_arr, 3)\n",
        "print(\"Horizontally Split:\\n\", hsplitted)\n",
        "\n",
        "# np.vsplit()\n",
        "vsplit_arr = np.array([[1, 2, 3], [4, 5, 6]])\n",
        "vsplitted = np.vsplit(vsplit_arr, 2)\n",
        "print(\"Vertically Split:\\n\", vsplitted)\n",
        "\n",
        "# np.dsplit()\n",
        "dsplit_arr = np.array([[[1, 2], [3, 4]], [[5, 6], [7, 8]]])\n",
        "dsplitted = np.dsplit(dsplit_arr, 2)\n",
        "print(\"Depth Split:\\n\", dsplitted)\n",
        "\n",
        "# np.tile()\n",
        "tiled = np.tile(arr, (2, 2))\n",
        "print(\"Tiled:\\n\", tiled)\n",
        "\n",
        "# np.repeat()\n",
        "repeated = np.repeat(arr, 2, axis=0)\n",
        "print(\"Repeated:\\n\", repeated)"
      ],
      "metadata": {
        "colab": {
          "base_uri": "https://localhost:8080/"
        },
        "id": "QPiBAyIIO13J",
        "outputId": "10fdb27b-3683-4aec-91c4-2064ee301552"
      },
      "execution_count": 67,
      "outputs": [
        {
          "output_type": "stream",
          "name": "stdout",
          "text": [
            "Split:\n",
            " [array([1, 2]), array([3, 4]), array([5, 6])]\n",
            "Horizontally Split:\n",
            " [array([[1],\n",
            "       [4]]), array([[2],\n",
            "       [5]]), array([[3],\n",
            "       [6]])]\n",
            "Vertically Split:\n",
            " [array([[1, 2, 3]]), array([[4, 5, 6]])]\n",
            "Depth Split:\n",
            " [array([[[1],\n",
            "        [3]],\n",
            "\n",
            "       [[5],\n",
            "        [7]]]), array([[[2],\n",
            "        [4]],\n",
            "\n",
            "       [[6],\n",
            "        [8]]])]\n",
            "Tiled:\n",
            " [[1 2 3 1 2 3]\n",
            " [4 5 6 4 5 6]\n",
            " [1 2 3 1 2 3]\n",
            " [4 5 6 4 5 6]]\n",
            "Repeated:\n",
            " [[1 2 3]\n",
            " [1 2 3]\n",
            " [4 5 6]\n",
            " [4 5 6]]\n"
          ]
        }
      ]
    },
    {
      "cell_type": "code",
      "source": [
        "# np.delete()\n",
        "deleted = np.delete(arr, 1, axis=0)\n",
        "print(\"Deleted:\\n\", deleted)\n",
        "\n",
        "# np.insert()\n",
        "inserted = np.insert(arr, 1, [7, 8, 9], axis=0)\n",
        "print(\"Inserted:\\n\", inserted)\n",
        "\n",
        "# np.append()\n",
        "appended = np.append(arr, [[7, 8, 9]], axis=0)\n",
        "print(\"Appended:\\n\", appended)\n",
        "\n",
        "# np.resize()\n",
        "resized = np.resize(arr, (3, 2))\n",
        "print(\"Resized:\\n\", resized)"
      ],
      "metadata": {
        "colab": {
          "base_uri": "https://localhost:8080/"
        },
        "id": "OowjcUE2O3z2",
        "outputId": "9ecd0212-25e1-404f-e7fb-61c223482c80"
      },
      "execution_count": 68,
      "outputs": [
        {
          "output_type": "stream",
          "name": "stdout",
          "text": [
            "Deleted:\n",
            " [[1 2 3]]\n",
            "Inserted:\n",
            " [[1 2 3]\n",
            " [7 8 9]\n",
            " [4 5 6]]\n",
            "Appended:\n",
            " [[1 2 3]\n",
            " [4 5 6]\n",
            " [7 8 9]]\n",
            "Resized:\n",
            " [[1 2]\n",
            " [3 4]\n",
            " [5 6]]\n"
          ]
        }
      ]
    },
    {
      "cell_type": "markdown",
      "source": [
        "#Array Indexing & Slicing"
      ],
      "metadata": {
        "id": "Phx6j75zPnzN"
      }
    },
    {
      "cell_type": "code",
      "source": [
        "import numpy as np\n",
        "\n",
        "# Creating an initial array for manipulation\n",
        "arr = np.array([10, 20, 30, 40, 50])\n",
        "arr_2d = np.array([[1, 2, 3], [4, 5, 6], [7, 8, 9]])\n",
        "\n",
        "# np.take()\n",
        "taken = np.take(arr, [0, 2, 4])\n",
        "print(\"Taken:\\n\", taken)\n",
        "\n",
        "# np.put()\n",
        "np.put(arr, [0, 2], [99, 88])\n",
        "print(\"Put:\\n\", arr)\n",
        "\n",
        "# np.where()\n",
        "where = np.where(arr > 20)\n",
        "print(\"Where:\\n\", where)\n",
        "\n",
        "# np.nonzero()\n",
        "nonzero = np.nonzero(arr_2d)\n",
        "print(\"Nonzero:\\n\", nonzero)"
      ],
      "metadata": {
        "colab": {
          "base_uri": "https://localhost:8080/"
        },
        "id": "4RjzL8gfPnbf",
        "outputId": "1cd4d496-ba75-4cf7-fb31-726853cec900"
      },
      "execution_count": 69,
      "outputs": [
        {
          "output_type": "stream",
          "name": "stdout",
          "text": [
            "Taken:\n",
            " [10 30 50]\n",
            "Put:\n",
            " [99 20 88 40 50]\n",
            "Where:\n",
            " (array([0, 2, 3, 4]),)\n",
            "Nonzero:\n",
            " (array([0, 0, 0, 1, 1, 1, 2, 2, 2]), array([0, 1, 2, 0, 1, 2, 0, 1, 2]))\n"
          ]
        }
      ]
    },
    {
      "cell_type": "code",
      "source": [
        "# np.extract()\n",
        "condition = arr > 20\n",
        "extracted = np.extract(condition, arr)\n",
        "print(\"Extracted:\\n\", extracted)\n",
        "\n",
        "# np.compress()\n",
        "compressed = np.compress(condition, arr)\n",
        "print(\"Compressed:\\n\", compressed)"
      ],
      "metadata": {
        "colab": {
          "base_uri": "https://localhost:8080/"
        },
        "id": "57wkWQ0oQDm1",
        "outputId": "0a3a3cbc-fae2-45e8-ece6-642d8b3598d7"
      },
      "execution_count": 70,
      "outputs": [
        {
          "output_type": "stream",
          "name": "stdout",
          "text": [
            "Extracted:\n",
            " [99 88 40 50]\n",
            "Compressed:\n",
            " [99 88 40 50]\n"
          ]
        }
      ]
    },
    {
      "cell_type": "code",
      "source": [
        "# np.choose()\n",
        "choices = np.array([[10, 20, 30], [40, 50, 60], [70, 80, 90]])\n",
        "choice = np.choose([2, 1, 0], choices)\n",
        "print(\"Chosen:\\n\", choice)\n",
        "\n",
        "# np.ix_()\n",
        "arr1 = np.array([1, 2, 3])\n",
        "arr2 = np.array([10, 11, 12])\n",
        "ix = np.ix_(arr1, arr2)\n",
        "print(\"ix_:\\n\", ix)\n",
        "\n",
        "# np.indices()\n",
        "indices = np.indices((2, 3))\n",
        "print(\"Indices:\\n\", indices)\n",
        "\n",
        "# np.meshgrid()\n",
        "x = np.array([1, 2, 3])\n",
        "y = np.array([4, 5])\n",
        "xx, yy = np.meshgrid(x, y)\n",
        "print(\"Meshgrid x:\\n\", xx)\n",
        "print(\"Meshgrid y:\\n\", yy)"
      ],
      "metadata": {
        "colab": {
          "base_uri": "https://localhost:8080/"
        },
        "id": "RzkuwWHSQGWW",
        "outputId": "d9f2fdee-bbdf-477f-8657-123311e40716"
      },
      "execution_count": 71,
      "outputs": [
        {
          "output_type": "stream",
          "name": "stdout",
          "text": [
            "Chosen:\n",
            " [70 50 30]\n",
            "ix_:\n",
            " (array([[1],\n",
            "       [2],\n",
            "       [3]]), array([[10, 11, 12]]))\n",
            "Indices:\n",
            " [[[0 0 0]\n",
            "  [1 1 1]]\n",
            "\n",
            " [[0 1 2]\n",
            "  [0 1 2]]]\n",
            "Meshgrid x:\n",
            " [[1 2 3]\n",
            " [1 2 3]]\n",
            "Meshgrid y:\n",
            " [[4 4 4]\n",
            " [5 5 5]]\n"
          ]
        }
      ]
    },
    {
      "cell_type": "markdown",
      "source": [
        "#Slicing 1D, 2D, and 3D arrays"
      ],
      "metadata": {
        "id": "ICxYMVU5Qx40"
      }
    },
    {
      "cell_type": "code",
      "source": [
        "import numpy as np\n",
        "\n",
        "# Creating a 1D array\n",
        "arr = np.array([10, 20, 30, 40, 50])\n",
        "\n",
        "# Accessing elements\n",
        "print(arr[0])  # Output: 10\n",
        "print(arr[2])  # Output: 30\n",
        "print(arr[-1]) # Output: 50\n"
      ],
      "metadata": {
        "colab": {
          "base_uri": "https://localhost:8080/"
        },
        "id": "fRDZfmHzRsoe",
        "outputId": "8e40cf1e-9df1-404c-a3dd-c7550110b422"
      },
      "execution_count": 74,
      "outputs": [
        {
          "output_type": "stream",
          "name": "stdout",
          "text": [
            "10\n",
            "30\n",
            "50\n"
          ]
        }
      ]
    },
    {
      "cell_type": "code",
      "source": [
        "# Slicing\n",
        "print(arr[1:4])  # Output: [20 30 40]\n",
        "print(arr[:3])   # Output: [10 20 30]\n",
        "print(arr[2:])   # Output: [30 40 50]\n",
        "print(arr[::2])  # Output: [10 30 50]"
      ],
      "metadata": {
        "colab": {
          "base_uri": "https://localhost:8080/"
        },
        "id": "_sMeCUg8Q83c",
        "outputId": "7b85aca3-0a96-4c48-f7ee-f764ae0bffb7"
      },
      "execution_count": 75,
      "outputs": [
        {
          "output_type": "stream",
          "name": "stdout",
          "text": [
            "[20 30 40]\n",
            "[10 20 30]\n",
            "[30 40 50]\n",
            "[10 30 50]\n"
          ]
        }
      ]
    },
    {
      "cell_type": "code",
      "source": [
        "# Creating a 2D array\n",
        "arr_2d = np.array([[1, 2, 3], [4, 5, 6], [7, 8, 9]])\n",
        "\n",
        "# Accessing elements\n",
        "print(arr_2d[0, 0])  # Output: 1\n",
        "print(arr_2d[1, 2])  # Output: 6\n",
        "print(arr_2d[-1, -1]) # Output: 9"
      ],
      "metadata": {
        "colab": {
          "base_uri": "https://localhost:8080/"
        },
        "id": "v7Bpm3BARAvV",
        "outputId": "fc6458bc-832e-4bca-a3ad-1e1ba3e68598"
      },
      "execution_count": 73,
      "outputs": [
        {
          "output_type": "stream",
          "name": "stdout",
          "text": [
            "1\n",
            "6\n",
            "9\n"
          ]
        }
      ]
    },
    {
      "cell_type": "markdown",
      "source": [
        "#3D array Indexing & Slicing"
      ],
      "metadata": {
        "id": "0_CWm4OWR8LQ"
      }
    },
    {
      "cell_type": "code",
      "source": [
        "import numpy as np\n",
        "\n",
        "# Creating a 3D array\n",
        "arr_3d = np.array([[[1, 2, 3],\n",
        "                    [4, 5, 6]],\n",
        "                   [[7, 8, 9],\n",
        "                    [10, 11, 12]],\n",
        "                   [[13, 14, 15],\n",
        "                    [16, 17, 18]]])\n",
        "print(\"Original array:\\n\", arr_3d)\n"
      ],
      "metadata": {
        "colab": {
          "base_uri": "https://localhost:8080/"
        },
        "id": "fjjKIWcTR_M-",
        "outputId": "4381489d-223e-4175-85d8-aecb46aad873"
      },
      "execution_count": 76,
      "outputs": [
        {
          "output_type": "stream",
          "name": "stdout",
          "text": [
            "Original array:\n",
            " [[[ 1  2  3]\n",
            "  [ 4  5  6]]\n",
            "\n",
            " [[ 7  8  9]\n",
            "  [10 11 12]]\n",
            "\n",
            " [[13 14 15]\n",
            "  [16 17 18]]]\n"
          ]
        }
      ]
    },
    {
      "cell_type": "code",
      "source": [
        "# Accessing a single element\n",
        "print(arr_3d[0, 1, 2])  # Output: 6\n",
        "print(arr_3d[2, 0, 1])  # Output: 14"
      ],
      "metadata": {
        "colab": {
          "base_uri": "https://localhost:8080/"
        },
        "id": "tDKDFpBoSEpJ",
        "outputId": "cc5ad4a4-c89d-43b3-8822-3ce40363f2fa"
      },
      "execution_count": 77,
      "outputs": [
        {
          "output_type": "stream",
          "name": "stdout",
          "text": [
            "6\n",
            "14\n"
          ]
        }
      ]
    },
    {
      "cell_type": "code",
      "source": [
        "# Slicing along each axis\n",
        "print(\"Slicing along first axis\",arr_3d[1:, :, :])  # Slices the first axis\n",
        "# Output:\n",
        "# [[[ 7  8  9]\n",
        "#   [10 11 12]]\n",
        "#  [[13 14 15]\n",
        "#   [16 17 18]]]\n",
        "\n",
        "print(\"Slicing along the second axis\",arr_3d[:, 0, :])  # Slices the second axis\n",
        "# Output:\n",
        "# [[ 1  2  3]\n",
        "#  [ 7  8  9]\n",
        "#  [13 14 15]]\n",
        "\n",
        "print(\"Slicing along the thrid axis\",arr_3d[:, :, 1])  # Slices the third axis\n",
        "# Output:\n",
        "# [[ 2  5]\n",
        "#  [ 8 11]\n",
        "#  [14 17]]\n"
      ],
      "metadata": {
        "colab": {
          "base_uri": "https://localhost:8080/"
        },
        "id": "xPRBcnDuSG1h",
        "outputId": "7c124486-f51c-469e-b3c8-8f0712f3f521"
      },
      "execution_count": 81,
      "outputs": [
        {
          "output_type": "stream",
          "name": "stdout",
          "text": [
            "Slicing along first axis [[[ 7  8  9]\n",
            "  [10 11 12]]\n",
            "\n",
            " [[13 14 15]\n",
            "  [16 17 18]]]\n",
            "Slicing along the second axis [[ 1  2  3]\n",
            " [ 7  8  9]\n",
            " [13 14 15]]\n",
            "Slicing along the thrid axis [[ 2  5]\n",
            " [ 8 11]\n",
            " [14 17]]\n"
          ]
        }
      ]
    },
    {
      "cell_type": "markdown",
      "source": [
        "#Mathematical & Trignometric Functions"
      ],
      "metadata": {
        "id": "6bL1B7v0S3pM"
      }
    },
    {
      "cell_type": "code",
      "source": [
        "import numpy as np\n",
        "\n",
        "# Arrays for operations\n",
        "a = np.array([1, 2, 3])\n",
        "b = np.array([4, 5, 6])\n",
        "\n",
        "# np.add()\n",
        "add_result = np.add(a, b)\n",
        "print(\"Add:\\n\", add_result)\n",
        "\n",
        "# np.subtract()\n",
        "subtract_result = np.subtract(a, b)\n",
        "print(\"Subtract:\\n\", subtract_result)\n",
        "\n",
        "# np.multiply()\n",
        "multiply_result = np.multiply(a, b)\n",
        "print(\"Multiply:\\n\", multiply_result)\n",
        "\n",
        "# np.divide()\n",
        "divide_result = np.divide(b, a)\n",
        "print(\"Divide:\\n\", divide_result)\n",
        "\n",
        "# np.power()\n",
        "power_result = np.power(a, 2)\n",
        "print(\"Power:\\n\", power_result)\n",
        "\n",
        "# np.mod()\n",
        "mod_result = np.mod(b, a)\n",
        "print(\"Mod:\\n\", mod_result)\n",
        "\n",
        "# np.remainder()\n",
        "remainder_result = np.remainder(b, a)\n",
        "print(\"Remainder:\\n\", remainder_result)\n",
        "\n",
        "# np.absolute()\n",
        "absolute_result = np.absolute(np.array([-1, -2, -3]))\n",
        "print(\"Absolute:\\n\", absolute_result)\n",
        "\n",
        "# np.sqrt()\n",
        "sqrt_result = np.sqrt(a)\n",
        "print(\"Sqrt:\\n\", sqrt_result)\n",
        "\n",
        "# np.exp()\n",
        "exp_result = np.exp(a)\n",
        "print(\"Exp:\\n\", exp_result)\n",
        "\n",
        "# np.log()\n",
        "log_result = np.log(a + 1)  # Adding 1 to avoid log(0)\n",
        "print(\"Log:\\n\", log_result)\n",
        "\n",
        "# np.log10()\n",
        "log10_result = np.log10(a + 1)\n",
        "print(\"Log10:\\n\", log10_result)\n",
        "\n",
        "# np.log2()\n",
        "log2_result = np.log2(a + 1)\n",
        "print(\"Log2:\\n\", log2_result)\n",
        "\n",
        "# np.sin()\n",
        "sin_result = np.sin(np.array([0, np.pi/2, np.pi]))\n",
        "print(\"Sin:\\n\", sin_result)\n",
        "\n",
        "# np.cos()\n",
        "cos_result = np.cos(np.array([0, np.pi/2, np.pi]))\n",
        "print(\"Cos:\\n\", cos_result)\n",
        "\n",
        "# np.tan()\n",
        "tan_result = np.tan(np.array([0, np.pi/4, np.pi/2]))\n",
        "print(\"Tan:\\n\", tan_result)\n",
        "\n",
        "# np.arcsin()\n",
        "arcsin_result = np.arcsin(np.array([0, 0.5, 1]))\n",
        "print(\"Arcsin:\\n\", arcsin_result)\n",
        "\n",
        "# np.arccos()\n",
        "arccos_result = np.arccos(np.array([1, 0.5, 0]))\n",
        "print(\"Arccos:\\n\", arccos_result)\n",
        "\n",
        "# np.arctan()\n",
        "arctan_result = np.arctan(np.array([0, 1, -1]))\n",
        "print(\"Arctan:\\n\", arctan_result)\n",
        "\n",
        "# np.arctan2()\n",
        "arctan2_result = np.arctan2(np.array([1, 1, 1]), np.array([1, -1, 0]))\n",
        "print(\"Arctan2:\\n\", arctan2_result)\n",
        "\n",
        "# np.sinh()\n",
        "sinh_result = np.sinh(np.array([0, 1, -1]))\n",
        "print(\"Sinh:\\n\", sinh_result)\n",
        "\n",
        "# np.cosh()\n",
        "cosh_result = np.cosh(np.array([0, 1, -1]))\n",
        "print(\"Cosh:\\n\", cosh_result)\n",
        "\n",
        "# np.tanh()\n",
        "tanh_result = np.tanh(np.array([0, 1, -1]))\n",
        "print(\"Tanh:\\n\", tanh_result)\n",
        "\n",
        "# np.arcsinh()\n",
        "arcsinh_result = np.arcsinh(np.array([0, 1, -1]))\n",
        "print(\"Arcsinh:\\n\", arcsinh_result)\n",
        "\n",
        "# np.arccosh()\n",
        "arccosh_result = np.arccosh(np.array([1, 2, 3]))\n",
        "print(\"Arccosh:\\n\", arccosh_result)\n",
        "\n",
        "# np.arctanh()\n",
        "arctanh_result = np.arctanh(np.array([0, 0.5, -0.5]))\n",
        "print(\"Arctanh:\\n\", arctanh_result)"
      ],
      "metadata": {
        "colab": {
          "base_uri": "https://localhost:8080/"
        },
        "id": "CPedknrXS8A4",
        "outputId": "d56d7381-df56-42de-d432-610098834ee5"
      },
      "execution_count": 82,
      "outputs": [
        {
          "output_type": "stream",
          "name": "stdout",
          "text": [
            "Add:\n",
            " [5 7 9]\n",
            "Subtract:\n",
            " [-3 -3 -3]\n",
            "Multiply:\n",
            " [ 4 10 18]\n",
            "Divide:\n",
            " [4.  2.5 2. ]\n",
            "Power:\n",
            " [1 4 9]\n",
            "Mod:\n",
            " [0 1 0]\n",
            "Remainder:\n",
            " [0 1 0]\n",
            "Absolute:\n",
            " [1 2 3]\n",
            "Sqrt:\n",
            " [1.         1.41421356 1.73205081]\n",
            "Exp:\n",
            " [ 2.71828183  7.3890561  20.08553692]\n",
            "Log:\n",
            " [0.69314718 1.09861229 1.38629436]\n",
            "Log10:\n",
            " [0.30103    0.47712125 0.60205999]\n",
            "Log2:\n",
            " [1.        1.5849625 2.       ]\n",
            "Sin:\n",
            " [0.0000000e+00 1.0000000e+00 1.2246468e-16]\n",
            "Cos:\n",
            " [ 1.000000e+00  6.123234e-17 -1.000000e+00]\n",
            "Tan:\n",
            " [0.00000000e+00 1.00000000e+00 1.63312394e+16]\n",
            "Arcsin:\n",
            " [0.         0.52359878 1.57079633]\n",
            "Arccos:\n",
            " [0.         1.04719755 1.57079633]\n",
            "Arctan:\n",
            " [ 0.          0.78539816 -0.78539816]\n",
            "Arctan2:\n",
            " [0.78539816 2.35619449 1.57079633]\n",
            "Sinh:\n",
            " [ 0.          1.17520119 -1.17520119]\n",
            "Cosh:\n",
            " [1.         1.54308063 1.54308063]\n",
            "Tanh:\n",
            " [ 0.          0.76159416 -0.76159416]\n",
            "Arcsinh:\n",
            " [ 0.          0.88137359 -0.88137359]\n",
            "Arccosh:\n",
            " [0.         1.3169579  1.76274717]\n",
            "Arctanh:\n",
            " [ 0.          0.54930614 -0.54930614]\n"
          ]
        }
      ]
    },
    {
      "cell_type": "markdown",
      "source": [
        "#Statisical functions"
      ],
      "metadata": {
        "id": "pTJr7k51TBqm"
      }
    },
    {
      "cell_type": "code",
      "source": [
        "import numpy as np\n",
        "\n",
        "# Sample data\n",
        "data = np.array([1, 2, 3, 4, 5, 6, 7, 8, 9, 10])\n",
        "data_2d = np.array([[1, 2, 3], [4, 5, 6], [7, 8, 9]])\n",
        "\n",
        "# np.mean()\n",
        "mean = np.mean(data)\n",
        "print(\"Mean:\\n\", mean)\n",
        "\n",
        "# np.median()\n",
        "median = np.median(data)\n",
        "print(\"Median:\\n\", median)\n",
        "\n",
        "# np.average()\n",
        "average = np.average(data)\n",
        "print(\"Average:\\n\", average)\n",
        "\n",
        "# np.std()\n",
        "std_dev = np.std(data)\n",
        "print(\"Standard Deviation:\\n\", std_dev)\n",
        "\n",
        "# np.var()\n",
        "variance = np.var(data)\n",
        "print(\"Variance:\\n\", variance)\n",
        "\n",
        "# np.min()\n",
        "minimum = np.min(data)\n",
        "print(\"Min:\\n\", minimum)\n",
        "\n",
        "# np.max()\n",
        "maximum = np.max(data)\n",
        "print(\"Max:\\n\", maximum)\n",
        "\n",
        "# np.ptp()\n",
        "range_ptp = np.ptp(data)\n",
        "print(\"Peak-to-Peak (Range):\\n\", range_ptp)\n",
        "\n",
        "# np.percentile()\n",
        "percentile_25 = np.percentile(data, 25)\n",
        "percentile_75 = np.percentile(data, 75)\n",
        "print(\"25th Percentile:\\n\", percentile_25)\n",
        "print(\"75th Percentile:\\n\", percentile_75)\n",
        "\n",
        "# np.quantile()\n",
        "quantile_0_25 = np.quantile(data, 0.25)\n",
        "quantile_0_75 = np.quantile(data, 0.75)\n",
        "print(\"0.25 Quantile:\\n\", quantile_0_25)\n",
        "print(\"0.75 Quantile:\\n\", quantile_0_75)\n",
        "\n",
        "# np.histogram()\n",
        "hist, bin_edges = np.histogram(data, bins=5)\n",
        "print(\"Histogram:\\n\", hist)\n",
        "print(\"Bin Edges:\\n\", bin_edges)\n",
        "\n",
        "# np.bincount()\n",
        "bincount = np.bincount(data)\n",
        "print(\"Bincount:\\n\", bincount)\n",
        "\n",
        "# np.cov()\n",
        "covariance = np.cov(data_2d, rowvar=False)\n",
        "print(\"Covariance Matrix:\\n\", covariance)\n",
        "\n",
        "# np.correlate()\n",
        "correlation = np.correlate(data, data, mode='full')\n",
        "print(\"Correlation:\\n\", correlation)\n",
        "\n",
        "# np.corrcoef()\n",
        "correlation_coef = np.corrcoef(data_2d)\n",
        "print(\"Correlation Coefficient Matrix:\\n\", correlation_coef)\n"
      ],
      "metadata": {
        "colab": {
          "base_uri": "https://localhost:8080/"
        },
        "id": "ne9Gbzd8TDqd",
        "outputId": "301931aa-ac7f-4597-966b-0a9ef4ed75b0"
      },
      "execution_count": 85,
      "outputs": [
        {
          "output_type": "stream",
          "name": "stdout",
          "text": [
            "Mean:\n",
            " 5.5\n",
            "Median:\n",
            " 5.5\n",
            "Average:\n",
            " 5.5\n",
            "Standard Deviation:\n",
            " 2.8722813232690143\n",
            "Variance:\n",
            " 8.25\n",
            "Min:\n",
            " 1\n",
            "Max:\n",
            " 10\n",
            "Peak-to-Peak (Range):\n",
            " 9\n",
            "25th Percentile:\n",
            " 3.25\n",
            "75th Percentile:\n",
            " 7.75\n",
            "0.25 Quantile:\n",
            " 3.25\n",
            "0.75 Quantile:\n",
            " 7.75\n",
            "Histogram:\n",
            " [2 2 2 2 2]\n",
            "Bin Edges:\n",
            " [ 1.   2.8  4.6  6.4  8.2 10. ]\n",
            "Bincount:\n",
            " [0 1 1 1 1 1 1 1 1 1 1]\n",
            "Covariance Matrix:\n",
            " [[9. 9. 9.]\n",
            " [9. 9. 9.]\n",
            " [9. 9. 9.]]\n",
            "Correlation:\n",
            " [ 10  29  56  90 130 175 224 276 330 385 330 276 224 175 130  90  56  29\n",
            "  10]\n",
            "Correlation Coefficient Matrix:\n",
            " [[1. 1. 1.]\n",
            " [1. 1. 1.]\n",
            " [1. 1. 1.]]\n"
          ]
        }
      ]
    }
  ]
}