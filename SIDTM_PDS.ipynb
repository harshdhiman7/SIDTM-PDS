{
  "nbformat": 4,
  "nbformat_minor": 0,
  "metadata": {
    "colab": {
      "provenance": [],
      "authorship_tag": "ABX9TyOL2k6rBlKYf8PvmFFIsNmA",
      "include_colab_link": true
    },
    "kernelspec": {
      "name": "python3",
      "display_name": "Python 3"
    },
    "language_info": {
      "name": "python"
    }
  },
  "cells": [
    {
      "cell_type": "markdown",
      "metadata": {
        "id": "view-in-github",
        "colab_type": "text"
      },
      "source": [
        "<a href=\"https://colab.research.google.com/github/harshdhiman7/SIDTM-PDS/blob/main/SIDTM_PDS.ipynb\" target=\"_parent\"><img src=\"https://colab.research.google.com/assets/colab-badge.svg\" alt=\"Open In Colab\"/></a>"
      ]
    },
    {
      "cell_type": "markdown",
      "source": [
        "#Python for Data Science"
      ],
      "metadata": {
        "id": "YDFlz_wL5VLu"
      }
    },
    {
      "cell_type": "markdown",
      "source": [
        "# Creating variables"
      ],
      "metadata": {
        "id": "fsaP7NKw412o"
      }
    },
    {
      "cell_type": "code",
      "execution_count": 1,
      "metadata": {
        "colab": {
          "base_uri": "https://localhost:8080/"
        },
        "id": "WQa6L1w-16Yv",
        "outputId": "5eef5e1e-768d-4e0c-b2ff-178c33a6595e"
      },
      "outputs": [
        {
          "output_type": "stream",
          "name": "stdout",
          "text": [
            "Integer variable: 10\n",
            "Float variable: 10.5\n",
            "String variable: Hello, World!\n"
          ]
        }
      ],
      "source": [
        "integer_var = 10\n",
        "float_var = 10.5\n",
        "string_var = \"Hello, World!\"\n",
        "\n",
        "# Printing statements\n",
        "print(\"Integer variable:\", integer_var)\n",
        "print(\"Float variable:\", float_var)\n",
        "print(\"String variable:\", string_var)"
      ]
    },
    {
      "cell_type": "markdown",
      "source": [
        "# Variable types & Arithmetic operations"
      ],
      "metadata": {
        "id": "3hrETopT45X3"
      }
    },
    {
      "cell_type": "code",
      "source": [
        "# Integer data type\n",
        "a = 5\n",
        "b = 3\n",
        "\n",
        "# Float data type\n",
        "c = 4.2\n",
        "d = 2.5\n",
        "\n",
        "# String data type\n",
        "str1 = \"Hello\"\n",
        "str2 = \"World\"\n",
        "\n",
        "\n",
        "addition = a + b\n",
        "subtraction = a - b\n",
        "multiplication = a * b\n",
        "division = a / b\n",
        "modulus = a % b\n",
        "exponent = a ** b\n",
        "\n",
        "print(\"Addition:\", addition)\n",
        "print(\"Subtraction:\", subtraction)\n",
        "print(\"Multiplication:\", multiplication)\n",
        "print(\"Division:\", division)\n",
        "print(\"Modulus:\", modulus)\n",
        "print(\"Exponent:\", exponent)"
      ],
      "metadata": {
        "colab": {
          "base_uri": "https://localhost:8080/"
        },
        "id": "v7vzqjJJ3GX_",
        "outputId": "346c42b1-1206-4441-a980-f1264bee9fb3"
      },
      "execution_count": 2,
      "outputs": [
        {
          "output_type": "stream",
          "name": "stdout",
          "text": [
            "Addition: 8\n",
            "Subtraction: 2\n",
            "Multiplication: 15\n",
            "Division: 1.6666666666666667\n",
            "Modulus: 2\n",
            "Exponent: 125\n"
          ]
        }
      ]
    },
    {
      "cell_type": "markdown",
      "source": [
        "# Logical operations"
      ],
      "metadata": {
        "id": "5UU6fwNO49uv"
      }
    },
    {
      "cell_type": "code",
      "source": [
        "\n",
        "logical_and = a > b and c < d\n",
        "logical_or = a > b or c < d\n",
        "logical_not = not(a > b)\n",
        "\n",
        "print(\"Logical AND:\", logical_and)\n",
        "print(\"Logical OR:\", logical_or)\n",
        "print(\"Logical NOT:\", logical_not)"
      ],
      "metadata": {
        "colab": {
          "base_uri": "https://localhost:8080/"
        },
        "id": "6MDyL_Zr3Kjf",
        "outputId": "8d39a0a8-14db-4abf-ed19-dd8cc3fbc47d"
      },
      "execution_count": 3,
      "outputs": [
        {
          "output_type": "stream",
          "name": "stdout",
          "text": [
            "Logical AND: False\n",
            "Logical OR: True\n",
            "Logical NOT: False\n"
          ]
        }
      ]
    },
    {
      "cell_type": "code",
      "source": [
        "# 'in' operation\n",
        "list_var = [1, 2, 3, 4, 5]\n",
        "in_operation = 3 in list_var\n",
        "not_in_operation = 6 not in list_var\n",
        "\n",
        "print(\"3 in list_var:\", in_operation)\n",
        "print(\"6 not in list_var:\", not_in_operation)"
      ],
      "metadata": {
        "colab": {
          "base_uri": "https://localhost:8080/"
        },
        "id": "A1UqIgnt3Nxe",
        "outputId": "43ebfa8d-8c9a-4a82-ea80-84d534868658"
      },
      "execution_count": 4,
      "outputs": [
        {
          "output_type": "stream",
          "name": "stdout",
          "text": [
            "3 in list_var: True\n",
            "6 not in list_var: True\n"
          ]
        }
      ]
    },
    {
      "cell_type": "code",
      "source": [
        "# 'is' operation\n",
        "is_operation = a is b\n",
        "is_not_operation = a is not b\n",
        "\n",
        "print(\"a is b:\", is_operation)\n",
        "print(\"a is not b:\", is_not_operation)"
      ],
      "metadata": {
        "colab": {
          "base_uri": "https://localhost:8080/"
        },
        "id": "OSzfD19J3Qmo",
        "outputId": "2b0059a1-8ab5-42d9-c5fb-f8ab9529b0c5"
      },
      "execution_count": 5,
      "outputs": [
        {
          "output_type": "stream",
          "name": "stdout",
          "text": [
            "a is b: False\n",
            "a is not b: True\n"
          ]
        }
      ]
    },
    {
      "cell_type": "markdown",
      "source": [
        "#Lists & List operations"
      ],
      "metadata": {
        "id": "flRmAkJ45BA_"
      }
    },
    {
      "cell_type": "code",
      "source": [
        "# Lists\n",
        "list1 = [1, 2, 3, 4, 5]\n",
        "list2 = [\"apple\", \"banana\", \"cherry\"]\n",
        "\n",
        "# List operations\n",
        "list1.append(6)\n",
        "list2.remove(\"banana\")\n",
        "list1.extend([7, 8, 9])\n",
        "list3 = list1 + list2\n",
        "\n",
        "print(\"List1 after append and extend:\", list1)\n",
        "print(\"List2 after remove:\", list2)\n",
        "print(\"Combined list3:\", list3)\n",
        "print(\"Index of cherry is:\",list2.index(\"cherry\"))"
      ],
      "metadata": {
        "colab": {
          "base_uri": "https://localhost:8080/"
        },
        "id": "96GBUHYu3Uqn",
        "outputId": "aa94fd10-51ab-4440-dfd2-3c0d46214c32"
      },
      "execution_count": 6,
      "outputs": [
        {
          "output_type": "stream",
          "name": "stdout",
          "text": [
            "List1 after append and extend: [1, 2, 3, 4, 5, 6, 7, 8, 9]\n",
            "List2 after remove: ['apple', 'cherry']\n",
            "Combined list3: [1, 2, 3, 4, 5, 6, 7, 8, 9, 'apple', 'cherry']\n",
            "Index of cherry is: 1\n"
          ]
        }
      ]
    },
    {
      "cell_type": "code",
      "source": [
        "# Initial lists\n",
        "list1 = [1, 2, 3, 4, 5]\n",
        "list2 = [\"apple\", \"banana\", \"cherry\"]\n",
        "\n",
        "# Append elements to the list\n",
        "list1.append(6)\n",
        "list2.append(\"date\")\n",
        "print(\"After append:\")\n",
        "print(\"list1:\", list1)\n",
        "print(\"list2:\", list2)\n",
        "\n",
        "# Extend the list with another list\n",
        "list1.extend([7, 8, 9])\n",
        "list2.extend([\"elderberry\", \"fig\"])\n",
        "print(\"After extend:\")\n",
        "print(\"list1:\", list1)\n",
        "print(\"list2:\", list2)\n",
        "\n",
        "# Insert element at a specific position\n",
        "list1.insert(0, 0)  # Insert at the beginning\n",
        "list2.insert(2, \"blueberry\")  # Insert at index 2\n",
        "print(\"After insert:\")\n",
        "print(\"list1:\", list1)\n",
        "print(\"list2:\", list2)\n",
        "\n",
        "# Remove element by value\n",
        "list1.remove(4)\n",
        "list2.remove(\"banana\")\n",
        "print(\"After remove:\")\n",
        "print(\"list1:\", list1)\n",
        "print(\"list2:\", list2)\n",
        "\n",
        "# Pop element from the list\n",
        "popped_element1 = list1.pop()  # Pop the last element\n",
        "popped_element2 = list2.pop(1)  # Pop the element at index 1\n",
        "print(\"After pop:\")\n",
        "print(\"list1:\", list1)\n",
        "print(\"list2:\", list2)\n",
        "print(\"Popped element from list1:\", popped_element1)\n",
        "print(\"Popped element from list2:\", popped_element2)\n",
        "\n",
        "# Clear all elements from the list\n",
        "list1_copy = list1.copy()  # Create a copy for further operations\n",
        "list2_copy = list2.copy()  # Create a copy for further operations\n",
        "list1.clear()\n",
        "list2.clear()\n",
        "print(\"After clear:\")\n",
        "print(\"list1:\", list1)\n",
        "print(\"list2:\", list2)\n",
        "\n",
        "# Reset lists for further operations\n",
        "list1 = list1_copy\n",
        "list2 = list2_copy\n",
        "\n",
        "# Get the index of an element\n",
        "index1 = list1.index(3)\n",
        "index2 = list2.index(\"cherry\")\n",
        "print(\"Index of 3 in list1:\", index1)\n",
        "print(\"Index of 'cherry' in list2:\", index2)\n",
        "\n",
        "# Count occurrences of an element\n",
        "count1 = list1.count(2)\n",
        "count2 = list2.count(\"apple\")\n",
        "print(\"Count of 2 in list1:\", count1)\n",
        "print(\"Count of 'apple' in list2:\", count2)\n",
        "\n",
        "# Sort the list\n",
        "list1.sort()\n",
        "list2.sort()\n",
        "print(\"After sort:\")\n",
        "print(\"list1:\", list1)\n",
        "print(\"list2:\", list2)\n",
        "\n",
        "# Reverse the list\n",
        "list1.reverse()\n",
        "list2.reverse()\n",
        "print(\"After reverse:\")\n",
        "print(\"list1:\", list1)\n",
        "print(\"list2:\", list2)\n",
        "\n",
        "# List slicing\n",
        "slice1 = list1[1:4]\n",
        "slice2 = list2[0:2]\n",
        "print(\"Slicing list1[1:4]:\", slice1)\n",
        "print(\"Slicing list2[0:2]:\", slice2)\n",
        "\n",
        "# List comprehension\n",
        "list1_squared = [x**2 for x in list1]\n",
        "list2_upper = [x.upper() for x in list2]\n",
        "print(\"List comprehension results:\")\n",
        "print(\"list1 squared:\", list1_squared)\n",
        "print(\"list2 upper:\", list2_upper)\n",
        "\n",
        "# Concatenate lists\n",
        "concatenated_list = list1 + list2\n",
        "print(\"Concatenated list:\", concatenated_list)\n",
        "\n",
        "# Replicate lists\n",
        "replicated_list1 = list1 * 2\n",
        "replicated_list2 = list2 * 3\n",
        "print(\"Replicated list1:\", replicated_list1)\n",
        "print(\"Replicated list2:\", replicated_list2)\n"
      ],
      "metadata": {
        "colab": {
          "base_uri": "https://localhost:8080/"
        },
        "id": "cx2iZ4vD5s4p",
        "outputId": "80956cba-598a-46d8-fe4a-4f88f49a315e"
      },
      "execution_count": 7,
      "outputs": [
        {
          "output_type": "stream",
          "name": "stdout",
          "text": [
            "After append:\n",
            "list1: [1, 2, 3, 4, 5, 6]\n",
            "list2: ['apple', 'banana', 'cherry', 'date']\n",
            "After extend:\n",
            "list1: [1, 2, 3, 4, 5, 6, 7, 8, 9]\n",
            "list2: ['apple', 'banana', 'cherry', 'date', 'elderberry', 'fig']\n",
            "After insert:\n",
            "list1: [0, 1, 2, 3, 4, 5, 6, 7, 8, 9]\n",
            "list2: ['apple', 'banana', 'blueberry', 'cherry', 'date', 'elderberry', 'fig']\n",
            "After remove:\n",
            "list1: [0, 1, 2, 3, 5, 6, 7, 8, 9]\n",
            "list2: ['apple', 'blueberry', 'cherry', 'date', 'elderberry', 'fig']\n",
            "After pop:\n",
            "list1: [0, 1, 2, 3, 5, 6, 7, 8]\n",
            "list2: ['apple', 'cherry', 'date', 'elderberry', 'fig']\n",
            "Popped element from list1: 9\n",
            "Popped element from list2: blueberry\n",
            "After clear:\n",
            "list1: []\n",
            "list2: []\n",
            "Index of 3 in list1: 3\n",
            "Index of 'cherry' in list2: 1\n",
            "Count of 2 in list1: 1\n",
            "Count of 'apple' in list2: 1\n",
            "After sort:\n",
            "list1: [0, 1, 2, 3, 5, 6, 7, 8]\n",
            "list2: ['apple', 'cherry', 'date', 'elderberry', 'fig']\n",
            "After reverse:\n",
            "list1: [8, 7, 6, 5, 3, 2, 1, 0]\n",
            "list2: ['fig', 'elderberry', 'date', 'cherry', 'apple']\n",
            "Slicing list1[1:4]: [7, 6, 5]\n",
            "Slicing list2[0:2]: ['fig', 'elderberry']\n",
            "List comprehension results:\n",
            "list1 squared: [64, 49, 36, 25, 9, 4, 1, 0]\n",
            "list2 upper: ['FIG', 'ELDERBERRY', 'DATE', 'CHERRY', 'APPLE']\n",
            "Concatenated list: [8, 7, 6, 5, 3, 2, 1, 0, 'fig', 'elderberry', 'date', 'cherry', 'apple']\n",
            "Replicated list1: [8, 7, 6, 5, 3, 2, 1, 0, 8, 7, 6, 5, 3, 2, 1, 0]\n",
            "Replicated list2: ['fig', 'elderberry', 'date', 'cherry', 'apple', 'fig', 'elderberry', 'date', 'cherry', 'apple', 'fig', 'elderberry', 'date', 'cherry', 'apple']\n"
          ]
        }
      ]
    },
    {
      "cell_type": "markdown",
      "source": [
        "#Tuples and Tuple ops"
      ],
      "metadata": {
        "id": "zmA6XWie5FJX"
      }
    },
    {
      "cell_type": "code",
      "source": [
        "# Tuples\n",
        "tuple1 = (1, 2, 3)\n",
        "tuple2 = (\"a\", \"b\", \"c\")\n",
        "\n",
        "# Tuple operations\n",
        "tuple3 = tuple1 + tuple2\n",
        "tuple_length = len(tuple1)\n",
        "\n",
        "print(\"Combined tuple3:\", tuple3)\n",
        "print(\"Length of tuple1:\", tuple_length)"
      ],
      "metadata": {
        "colab": {
          "base_uri": "https://localhost:8080/"
        },
        "id": "IzD6C3jm3XYm",
        "outputId": "774061f1-297a-4e8d-d4b3-04589af03683"
      },
      "execution_count": 8,
      "outputs": [
        {
          "output_type": "stream",
          "name": "stdout",
          "text": [
            "Combined tuple3: (1, 2, 3, 'a', 'b', 'c')\n",
            "Length of tuple1: 3\n"
          ]
        }
      ]
    },
    {
      "cell_type": "markdown",
      "source": [
        "#Sets & Set Ops"
      ],
      "metadata": {
        "id": "EKx9CXUL5JnH"
      }
    },
    {
      "cell_type": "code",
      "source": [
        "\n",
        "set1 = {1, 2, 3, 4, 5}\n",
        "set2 = {4, 5, 6, 7, 8}\n",
        "\n",
        "# Set operations\n",
        "set_union = set1.union(set2)\n",
        "set_intersection = set1.intersection(set2)\n",
        "set_difference = set1.difference(set2)\n",
        "set1.add(9)\n",
        "set2.remove(8)\n",
        "\n",
        "print(\"Union of sets:\", set_union)\n",
        "print(\"Intersection of sets:\", set_intersection)\n",
        "print(\"Difference of sets:\", set_difference)\n",
        "print(\"Set1 after add:\", set1)\n",
        "print(\"Set2 after remove:\", set2)"
      ],
      "metadata": {
        "colab": {
          "base_uri": "https://localhost:8080/"
        },
        "id": "UJ64gXGG3Z7Q",
        "outputId": "bdcb77e4-a77c-4f07-c8ac-95a48cc8579c"
      },
      "execution_count": 9,
      "outputs": [
        {
          "output_type": "stream",
          "name": "stdout",
          "text": [
            "Union of sets: {1, 2, 3, 4, 5, 6, 7, 8}\n",
            "Intersection of sets: {4, 5}\n",
            "Difference of sets: {1, 2, 3}\n",
            "Set1 after add: {1, 2, 3, 4, 5, 9}\n",
            "Set2 after remove: {4, 5, 6, 7}\n"
          ]
        }
      ]
    },
    {
      "cell_type": "markdown",
      "source": [
        "# Dictionaries & Ops"
      ],
      "metadata": {
        "id": "98jebTDe5PWm"
      }
    },
    {
      "cell_type": "code",
      "source": [
        "# Initial dictionary\n",
        "dict1 = {\n",
        "    \"name\": \"John\",\n",
        "    \"age\": 30,\n",
        "    \"city\": \"New York\"\n",
        "}\n",
        "\n",
        "# Adding a new key-value pair\n",
        "dict1[\"email\"] = \"john@example.com\"\n",
        "print(\"After adding email:\", dict1)\n",
        "\n",
        "# Updating an existing key-value pair\n",
        "dict1[\"age\"] = 31\n",
        "print(\"After updating age:\", dict1)\n",
        "\n",
        "# Removing a key-value pair using del\n",
        "del dict1[\"city\"]\n",
        "print(\"After deleting city:\", dict1)\n",
        "\n",
        "# Removing a key-value pair using pop\n",
        "popped_value = dict1.pop(\"email\")\n",
        "print(\"After popping email:\", dict1)\n",
        "print(\"Popped value:\", popped_value)\n",
        "\n",
        "# Removing the last inserted key-value pair using popitem\n",
        "popped_item = dict1.popitem()\n",
        "print(\"After popitem:\", dict1)\n",
        "print(\"Popped item:\", popped_item)\n",
        "\n",
        "# Accessing a value by key\n",
        "name = dict1[\"name\"]\n",
        "print(\"Value of key 'name':\", name)\n",
        "\n",
        "# Using get() to access a value\n",
        "age = dict1.get(\"age\")\n",
        "print(\"Value of key 'age' using get():\", age)\n",
        "\n",
        "# Using get() to access a non-existent key with a default value\n",
        "country = dict1.get(\"country\", \"USA\")\n",
        "print(\"Value of key 'country' using get() with default:\", country)\n",
        "\n",
        "# Checking if a key exists in the dictionary\n",
        "has_name = \"name\" in dict1\n",
        "has_city = \"city\" in dict1\n",
        "print(\"Does 'name' exist in dict1?\", has_name)\n",
        "print(\"Does 'city' exist in dict1?\", has_city)\n",
        "\n",
        "# Iterating through the dictionary\n",
        "print(\"Iterating through dict1:\")\n",
        "for key, value in dict1.items():\n",
        "    print(key, \":\", value)\n",
        "\n",
        "# Getting all keys\n",
        "keys = dict1.keys()\n",
        "print(\"Keys in dict1:\", keys)\n",
        "\n",
        "# Getting all values\n",
        "values = dict1.values()\n",
        "print(\"Values in dict1:\", values)\n",
        "\n",
        "# Getting all key-value pairs\n",
        "items = dict1.items()\n",
        "print(\"Items in dict1:\", items)\n",
        "\n",
        "# Copying the dictionary\n",
        "dict2 = dict1.copy()\n",
        "print(\"Copied dict2:\", dict2)\n",
        "\n",
        "# Clearing the dictionary\n",
        "dict2.clear()\n",
        "print(\"After clearing dict2:\", dict2)\n",
        "\n",
        "# Creating a dictionary from keys with a default value\n",
        "keys = [\"name\", \"age\", \"city\"]\n",
        "default_dict = dict.fromkeys(keys, \"unknown\")\n",
        "print(\"Default dictionary:\", default_dict)\n",
        "\n",
        "# Updating a dictionary with another dictionary\n",
        "dict1.update({\"city\": \"San Francisco\", \"email\": \"john_new@example.com\"})\n",
        "print(\"After updating dict1 with another dictionary:\", dict1)\n"
      ],
      "metadata": {
        "colab": {
          "base_uri": "https://localhost:8080/"
        },
        "id": "UX9DJl-K3cIX",
        "outputId": "49376453-e640-4b31-f34b-5adb4e144fab"
      },
      "execution_count": 10,
      "outputs": [
        {
          "output_type": "stream",
          "name": "stdout",
          "text": [
            "After adding email: {'name': 'John', 'age': 30, 'city': 'New York', 'email': 'john@example.com'}\n",
            "After updating age: {'name': 'John', 'age': 31, 'city': 'New York', 'email': 'john@example.com'}\n",
            "After deleting city: {'name': 'John', 'age': 31, 'email': 'john@example.com'}\n",
            "After popping email: {'name': 'John', 'age': 31}\n",
            "Popped value: john@example.com\n",
            "After popitem: {'name': 'John'}\n",
            "Popped item: ('age', 31)\n",
            "Value of key 'name': John\n",
            "Value of key 'age' using get(): None\n",
            "Value of key 'country' using get() with default: USA\n",
            "Does 'name' exist in dict1? True\n",
            "Does 'city' exist in dict1? False\n",
            "Iterating through dict1:\n",
            "name : John\n",
            "Keys in dict1: dict_keys(['name'])\n",
            "Values in dict1: dict_values(['John'])\n",
            "Items in dict1: dict_items([('name', 'John')])\n",
            "Copied dict2: {'name': 'John'}\n",
            "After clearing dict2: {}\n",
            "Default dictionary: {'name': 'unknown', 'age': 'unknown', 'city': 'unknown'}\n",
            "After updating dict1 with another dictionary: {'name': 'John', 'city': 'San Francisco', 'email': 'john_new@example.com'}\n"
          ]
        }
      ]
    }
  ]
}