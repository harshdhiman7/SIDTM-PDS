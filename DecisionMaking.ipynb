{
  "nbformat": 4,
  "nbformat_minor": 0,
  "metadata": {
    "colab": {
      "provenance": [],
      "authorship_tag": "ABX9TyPzbMVTWPU54/9BiRJehDg3",
      "include_colab_link": true
    },
    "kernelspec": {
      "name": "python3",
      "display_name": "Python 3"
    },
    "language_info": {
      "name": "python"
    }
  },
  "cells": [
    {
      "cell_type": "markdown",
      "metadata": {
        "id": "view-in-github",
        "colab_type": "text"
      },
      "source": [
        "<a href=\"https://colab.research.google.com/github/harshdhiman7/SIDTM-PDS/blob/main/DecisionMaking.ipynb\" target=\"_parent\"><img src=\"https://colab.research.google.com/assets/colab-badge.svg\" alt=\"Open In Colab\"/></a>"
      ]
    },
    {
      "cell_type": "markdown",
      "source": [
        "#If-Else\n",
        "The if-else statement is used to execute a block of code based on a condition."
      ],
      "metadata": {
        "id": "GVDrbf9XpA9T"
      }
    },
    {
      "cell_type": "code",
      "execution_count": null,
      "metadata": {
        "colab": {
          "base_uri": "https://localhost:8080/"
        },
        "id": "NoRB-IeRow1S",
        "outputId": "61e41aad-eb1b-4815-a20a-cf4462111a82"
      },
      "outputs": [
        {
          "output_type": "stream",
          "name": "stdout",
          "text": [
            "You are an adult.\n"
          ]
        }
      ],
      "source": [
        "age = 20\n",
        "\n",
        "if age >= 18:\n",
        "    print(\"You are an adult.\")\n",
        "else:\n",
        "    print(\"You are a minor.\")\n"
      ]
    },
    {
      "cell_type": "markdown",
      "source": [
        "#Nested If-Else\n",
        "You can nest if-else statements within each other."
      ],
      "metadata": {
        "id": "sQ48mwHupEkB"
      }
    },
    {
      "cell_type": "code",
      "source": [
        "number = 15\n",
        "\n",
        "if number > 0:\n",
        "    if number % 2 == 0:\n",
        "        print(\"The number is positive and even.\")\n",
        "    else:\n",
        "        print(\"The number is positive and odd.\")\n",
        "else:\n",
        "    print(\"The number is not positive.\")\n"
      ],
      "metadata": {
        "colab": {
          "base_uri": "https://localhost:8080/"
        },
        "id": "vbUj3YdXpHFx",
        "outputId": "b1f245eb-5372-4b97-c37f-8c1251d103ec"
      },
      "execution_count": null,
      "outputs": [
        {
          "output_type": "stream",
          "name": "stdout",
          "text": [
            "The number is positive and odd.\n"
          ]
        }
      ]
    },
    {
      "cell_type": "markdown",
      "source": [
        "#For Loop\n",
        "The for loop is used for iterating over a sequence (such as a list, tuple, dictionary, set, or string)."
      ],
      "metadata": {
        "id": "YTBHNOKZpJEF"
      }
    },
    {
      "cell_type": "code",
      "source": [
        "fruits = [\"apple\", \"banana\", \"cherry\"]\n",
        "\n",
        "for fruit in fruits:\n",
        "    print(fruit)\n"
      ],
      "metadata": {
        "colab": {
          "base_uri": "https://localhost:8080/"
        },
        "id": "Y9IgUIGtpL_A",
        "outputId": "9ea9af6f-0f9c-4780-e8aa-bb8c851273b9"
      },
      "execution_count": null,
      "outputs": [
        {
          "output_type": "stream",
          "name": "stdout",
          "text": [
            "apple\n",
            "banana\n",
            "cherry\n"
          ]
        }
      ]
    },
    {
      "cell_type": "markdown",
      "source": [
        "#While Loop\n",
        "The while loop executes a set of statements as long as a condition is true."
      ],
      "metadata": {
        "id": "sXMkrcWXpNvU"
      }
    },
    {
      "cell_type": "code",
      "source": [
        "count = 0\n",
        "\n",
        "while count < 5:\n",
        "    print(count)\n",
        "    count += 1\n"
      ],
      "metadata": {
        "colab": {
          "base_uri": "https://localhost:8080/"
        },
        "id": "AfZRkEjMpQYy",
        "outputId": "59e5614f-d91d-421d-f520-8d385256805f"
      },
      "execution_count": null,
      "outputs": [
        {
          "output_type": "stream",
          "name": "stdout",
          "text": [
            "0\n",
            "1\n",
            "2\n",
            "3\n",
            "4\n"
          ]
        }
      ]
    },
    {
      "cell_type": "markdown",
      "source": [
        "#Do-While Loop\n",
        "Python does not have a built-in do-while loop, but you can simulate it using a while loop."
      ],
      "metadata": {
        "id": "3KqwwmbVpSZb"
      }
    },
    {
      "cell_type": "code",
      "source": [
        "count = 0\n",
        "\n",
        "while True:\n",
        "    print(count)\n",
        "    count += 1\n",
        "    if count >= 5:\n",
        "        break\n"
      ],
      "metadata": {
        "colab": {
          "base_uri": "https://localhost:8080/"
        },
        "id": "zyBxZivipYoX",
        "outputId": "68b8eb85-c251-426d-d608-c04ab2b174a8"
      },
      "execution_count": null,
      "outputs": [
        {
          "output_type": "stream",
          "name": "stdout",
          "text": [
            "0\n",
            "1\n",
            "2\n",
            "3\n",
            "4\n"
          ]
        }
      ]
    },
    {
      "cell_type": "markdown",
      "source": [
        "#Functions\n",
        "Functions in Python are defined using the def keyword."
      ],
      "metadata": {
        "id": "BCNp5NQ0paHw"
      }
    },
    {
      "cell_type": "code",
      "source": [
        "def greet(name):\n",
        "    return f\"Hello, {name}!\"\n",
        "\n",
        "print(greet(\"Alice\"))\n"
      ],
      "metadata": {
        "colab": {
          "base_uri": "https://localhost:8080/"
        },
        "id": "hAqrdl2hpcXe",
        "outputId": "3d5ae516-ca9e-4c32-87e7-8f5657cb16a2"
      },
      "execution_count": null,
      "outputs": [
        {
          "output_type": "stream",
          "name": "stdout",
          "text": [
            "Hello, Alice!\n"
          ]
        }
      ]
    },
    {
      "cell_type": "markdown",
      "source": [
        "# Example 2"
      ],
      "metadata": {
        "id": "4SmfMp_wVSUO"
      }
    },
    {
      "cell_type": "code",
      "source": [
        "def power(base, exponent=2):\n",
        "    return base ** exponent\n",
        "\n",
        "print(power(3))      # Output: 9\n",
        "print(power(3, 3))   # Output: 27"
      ],
      "metadata": {
        "id": "LgWgBd5-VUK8",
        "outputId": "f6e7d540-ab6b-4b0b-e84c-82a7d5fd931b",
        "colab": {
          "base_uri": "https://localhost:8080/"
        }
      },
      "execution_count": null,
      "outputs": [
        {
          "output_type": "stream",
          "name": "stdout",
          "text": [
            "9\n",
            "27\n"
          ]
        }
      ]
    },
    {
      "cell_type": "markdown",
      "source": [
        "# Example 3"
      ],
      "metadata": {
        "id": "tOVRNir-VWkV"
      }
    },
    {
      "cell_type": "code",
      "source": [
        "def order(food, drink=\"water\"):\n",
        "    return f\"Ordered {food} with {drink}.\"\n",
        "\n",
        "print(order(\"pizza\"))              # Output: Ordered pizza with water.\n",
        "print(order(\"burger\", drink=\"soda\")) # Output: Ordered burger with soda."
      ],
      "metadata": {
        "id": "A2Xc9UCMVX7q",
        "outputId": "29d849bc-940c-426d-b60c-fb800f8f64cd",
        "colab": {
          "base_uri": "https://localhost:8080/"
        }
      },
      "execution_count": null,
      "outputs": [
        {
          "output_type": "stream",
          "name": "stdout",
          "text": [
            "Ordered pizza with water.\n",
            "Ordered burger with soda.\n"
          ]
        }
      ]
    },
    {
      "cell_type": "markdown",
      "source": [
        "#Example 4"
      ],
      "metadata": {
        "id": "9MdkV2LqVbUf"
      }
    },
    {
      "cell_type": "code",
      "source": [
        "#Closures\n",
        "def outer_function(x):\n",
        "    def inner_function(y):\n",
        "        return x + y\n",
        "    return inner_function\n",
        "\n",
        "closure = outer_function(10)\n",
        "print(closure(5))  # Output: 15\n"
      ],
      "metadata": {
        "id": "aVO3D0XMVc3c",
        "outputId": "211f7a19-e276-44a2-8e7d-eb9f751d70d6",
        "colab": {
          "base_uri": "https://localhost:8080/"
        }
      },
      "execution_count": null,
      "outputs": [
        {
          "output_type": "stream",
          "name": "stdout",
          "text": [
            "15\n"
          ]
        }
      ]
    },
    {
      "cell_type": "markdown",
      "source": [
        "#Generator in Python"
      ],
      "metadata": {
        "id": "GemvupYsVx9u"
      }
    },
    {
      "cell_type": "code",
      "source": [
        "def fibonacci(n):\n",
        "    a, b = 0, 1\n",
        "    for _ in range(n):\n",
        "        yield a\n",
        "        a, b = b, a + b\n",
        "\n",
        "for number in fibonacci(5):\n",
        "    print(number)"
      ],
      "metadata": {
        "id": "fhpJadotVz5K",
        "outputId": "194fbb51-e93d-4407-a670-6704461eaaf2",
        "colab": {
          "base_uri": "https://localhost:8080/"
        }
      },
      "execution_count": null,
      "outputs": [
        {
          "output_type": "stream",
          "name": "stdout",
          "text": [
            "0\n",
            "1\n",
            "1\n",
            "2\n",
            "3\n"
          ]
        }
      ]
    },
    {
      "cell_type": "markdown",
      "source": [
        "#Combining Them All\n",
        "Here is an example that combines if-else, for loop, while loop, and functions:"
      ],
      "metadata": {
        "id": "bYguucV_peCf"
      }
    },
    {
      "cell_type": "code",
      "source": [
        "def classify_number(num):\n",
        "    if num > 0:\n",
        "        if num % 2 == 0:\n",
        "            return \"Positive and even\"\n",
        "        else:\n",
        "            return \"Positive and odd\"\n",
        "    elif num < 0:\n",
        "        return \"Negative\"\n",
        "    else:\n",
        "        return \"Zero\"\n",
        "\n",
        "def print_classifications(numbers):\n",
        "    for number in numbers:\n",
        "        classification = classify_number(number)\n",
        "        print(f\"Number {number} is {classification}\")\n",
        "\n",
        "numbers = [10, -3, 4, 0, 5]\n",
        "print_classifications(numbers)\n",
        "\n",
        "def simulate_do_while():\n",
        "    count = 0\n",
        "    while True:\n",
        "        print(f\"Count is {count}\")\n",
        "        count += 1\n",
        "        if count >= 3:\n",
        "            break\n",
        "\n",
        "simulate_do_while()\n"
      ],
      "metadata": {
        "colab": {
          "base_uri": "https://localhost:8080/"
        },
        "id": "YbvWA-APpjBP",
        "outputId": "1c54ed30-0ae7-4892-efe1-67238543d071"
      },
      "execution_count": null,
      "outputs": [
        {
          "output_type": "stream",
          "name": "stdout",
          "text": [
            "Number 10 is Positive and even\n",
            "Number -3 is Negative\n",
            "Number 4 is Positive and even\n",
            "Number 0 is Zero\n",
            "Number 5 is Positive and odd\n",
            "Count is 0\n",
            "Count is 1\n",
            "Count is 2\n"
          ]
        }
      ]
    },
    {
      "cell_type": "code",
      "source": [],
      "metadata": {
        "id": "OgO90NpDpkZf"
      },
      "execution_count": null,
      "outputs": []
    },
    {
      "cell_type": "markdown",
      "source": [
        "# Lambda functions,\n",
        "## also known as anonymous functions, are small functions defined using the lambda keyword. They can have any number of arguments but only one expression. The expression is evaluated and returned.\n",
        "\n"
      ],
      "metadata": {
        "id": "qqlFXzhjpwY-"
      }
    },
    {
      "cell_type": "code",
      "source": [
        "lambda arguments: expression"
      ],
      "metadata": {
        "colab": {
          "base_uri": "https://localhost:8080/"
        },
        "id": "Lyb-ggPrp0ff",
        "outputId": "7386bef2-0bdc-4ea9-cd53-6098658ea259"
      },
      "execution_count": null,
      "outputs": [
        {
          "output_type": "execute_result",
          "data": {
            "text/plain": [
              "<function __main__.<lambda>(arguments)>"
            ]
          },
          "metadata": {},
          "execution_count": 11
        }
      ]
    },
    {
      "cell_type": "markdown",
      "source": [
        "#Example 1: Basic Lambda Function\n",
        "## A lambda function that adds 10 to a given number."
      ],
      "metadata": {
        "id": "PikkcuPGp3d6"
      }
    },
    {
      "cell_type": "code",
      "source": [
        "add_ten = lambda x: x + 10\n",
        "print(add_ten(5))  # Output: 15"
      ],
      "metadata": {
        "colab": {
          "base_uri": "https://localhost:8080/"
        },
        "id": "d38dAsAzp7JK",
        "outputId": "3d1b1878-9612-45ac-af35-ef5303b22f33"
      },
      "execution_count": null,
      "outputs": [
        {
          "output_type": "stream",
          "name": "stdout",
          "text": [
            "15\n"
          ]
        }
      ]
    },
    {
      "cell_type": "markdown",
      "source": [
        "#Example 2: Lambda Function with Multiple Arguments\n",
        "##A lambda function that multiplies two numbers."
      ],
      "metadata": {
        "id": "b2wDwHUGp_Wl"
      }
    },
    {
      "cell_type": "code",
      "source": [
        "multiply = lambda x, y: x * y\n",
        "print(multiply(3, 4))  # Output: 12"
      ],
      "metadata": {
        "colab": {
          "base_uri": "https://localhost:8080/"
        },
        "id": "s6_zIWxuqBHq",
        "outputId": "d0197793-ca3b-46dd-be0d-ace82efa4af7"
      },
      "execution_count": null,
      "outputs": [
        {
          "output_type": "stream",
          "name": "stdout",
          "text": [
            "12\n"
          ]
        }
      ]
    },
    {
      "cell_type": "markdown",
      "source": [
        "#Example 3: Lambda Function within a Function\n",
        "## Lambda functions can be used inside other functions."
      ],
      "metadata": {
        "id": "VPlFo07vqDuT"
      }
    },
    {
      "cell_type": "code",
      "source": [
        "def make_incrementor(n):\n",
        "    return lambda x: x + n\n",
        "\n",
        "increment_by_5 = make_incrementor(5)\n",
        "print(increment_by_5(10))  # Output: 15"
      ],
      "metadata": {
        "colab": {
          "base_uri": "https://localhost:8080/"
        },
        "id": "woXKfUuaqQPF",
        "outputId": "e03d40c4-93d6-4dfb-f2c7-3295b7591148"
      },
      "execution_count": null,
      "outputs": [
        {
          "output_type": "stream",
          "name": "stdout",
          "text": [
            "15\n"
          ]
        }
      ]
    },
    {
      "cell_type": "markdown",
      "source": [
        "#Example: Mapping with Lambda Functions\n",
        "Using a lambda function with the map function to square each number in a list."
      ],
      "metadata": {
        "id": "MMZh8QtZqlmT"
      }
    },
    {
      "cell_type": "code",
      "source": [
        "numbers = [1, 2, 3, 4, 5]\n",
        "squared_numbers = list(map(lambda x: x%2!=0, numbers))\n",
        "print(squared_numbers)  # Output: [1, 4, 9, 16, 25]"
      ],
      "metadata": {
        "colab": {
          "base_uri": "https://localhost:8080/"
        },
        "id": "vG-hR-zGqncf",
        "outputId": "52eab462-b5f0-417a-a4a9-8d5a68619c5d"
      },
      "execution_count": 17,
      "outputs": [
        {
          "output_type": "stream",
          "name": "stdout",
          "text": [
            "[1, 4, 9, 16, 25]\n"
          ]
        }
      ]
    },
    {
      "cell_type": "code",
      "source": [
        "import math\n",
        "perfect_square= lambda x: math.sqrt(x)==int(math.sqrt(x))\n",
        "print(perfect_square(25))"
      ],
      "metadata": {
        "id": "hlTgFqlZqDVW",
        "outputId": "23bc5f39-0773-4c96-d5c9-a1db65ae4585",
        "colab": {
          "base_uri": "https://localhost:8080/"
        }
      },
      "execution_count": 2,
      "outputs": [
        {
          "output_type": "stream",
          "name": "stdout",
          "text": [
            "True\n"
          ]
        }
      ]
    },
    {
      "cell_type": "code",
      "source": [
        "name=\"CrIstIaNo\"\n",
        "vowels=[\"a\",\"e\",\"i\",\"o\",\"u\"]\n",
        "check_vowel= lambda name: [print(\"vowel\") for i in name if i in vowels]\n",
        "\n",
        "print(check_vowel(name.lower()))"
      ],
      "metadata": {
        "id": "RCh6QkNKyy_z",
        "outputId": "207433c3-626c-4e23-92e6-5baaeb90cc86",
        "colab": {
          "base_uri": "https://localhost:8080/"
        }
      },
      "execution_count": 15,
      "outputs": [
        {
          "output_type": "stream",
          "name": "stdout",
          "text": [
            "vowel\n",
            "vowel\n",
            "vowel\n",
            "vowel\n",
            "[None, None, None, None]\n"
          ]
        }
      ]
    }
  ]
}