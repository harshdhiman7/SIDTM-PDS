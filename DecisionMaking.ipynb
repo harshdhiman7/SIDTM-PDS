{
  "nbformat": 4,
  "nbformat_minor": 0,
  "metadata": {
    "colab": {
      "provenance": [],
      "authorship_tag": "ABX9TyNtiB/hPfU34VL81eg6C1w7",
      "include_colab_link": true
    },
    "kernelspec": {
      "name": "python3",
      "display_name": "Python 3"
    },
    "language_info": {
      "name": "python"
    }
  },
  "cells": [
    {
      "cell_type": "markdown",
      "metadata": {
        "id": "view-in-github",
        "colab_type": "text"
      },
      "source": [
        "<a href=\"https://colab.research.google.com/github/harshdhiman7/SIDTM-PDS/blob/main/DecisionMaking.ipynb\" target=\"_parent\"><img src=\"https://colab.research.google.com/assets/colab-badge.svg\" alt=\"Open In Colab\"/></a>"
      ]
    },
    {
      "cell_type": "markdown",
      "source": [
        "#If-Else\n",
        "The if-else statement is used to execute a block of code based on a condition."
      ],
      "metadata": {
        "id": "GVDrbf9XpA9T"
      }
    },
    {
      "cell_type": "code",
      "execution_count": 2,
      "metadata": {
        "colab": {
          "base_uri": "https://localhost:8080/"
        },
        "id": "NoRB-IeRow1S",
        "outputId": "447c541d-24fd-4fa6-b34f-36dbb9ac3274"
      },
      "outputs": [
        {
          "output_type": "stream",
          "name": "stdout",
          "text": [
            "You are an adult.\n"
          ]
        }
      ],
      "source": [
        "age = 20\n",
        "\n",
        "if age >= 18:\n",
        "    print(\"You are an adult.\")\n",
        "else:\n",
        "    print(\"You are a minor.\")\n"
      ]
    },
    {
      "cell_type": "markdown",
      "source": [
        "#Nested If-Else\n",
        "You can nest if-else statements within each other."
      ],
      "metadata": {
        "id": "sQ48mwHupEkB"
      }
    },
    {
      "cell_type": "code",
      "source": [
        "number = 15\n",
        "\n",
        "if number > 0:\n",
        "    if number % 2 == 0:\n",
        "        print(\"The number is positive and even.\")\n",
        "    else:\n",
        "        print(\"The number is positive and odd.\")\n",
        "else:\n",
        "    print(\"The number is not positive.\")\n"
      ],
      "metadata": {
        "colab": {
          "base_uri": "https://localhost:8080/"
        },
        "id": "vbUj3YdXpHFx",
        "outputId": "9288e281-652f-4518-f943-a60ea3c367f4"
      },
      "execution_count": 3,
      "outputs": [
        {
          "output_type": "stream",
          "name": "stdout",
          "text": [
            "The number is positive and odd.\n"
          ]
        }
      ]
    },
    {
      "cell_type": "markdown",
      "source": [
        "#For Loop\n",
        "The for loop is used for iterating over a sequence (such as a list, tuple, dictionary, set, or string)."
      ],
      "metadata": {
        "id": "YTBHNOKZpJEF"
      }
    },
    {
      "cell_type": "code",
      "source": [
        "fruits = [\"apple\", \"banana\", \"cherry\"]\n",
        "\n",
        "for fruit in fruits:\n",
        "    print(fruit)\n"
      ],
      "metadata": {
        "colab": {
          "base_uri": "https://localhost:8080/"
        },
        "id": "Y9IgUIGtpL_A",
        "outputId": "212d6c28-bfb2-45ea-a32e-47981c0e229d"
      },
      "execution_count": 4,
      "outputs": [
        {
          "output_type": "stream",
          "name": "stdout",
          "text": [
            "apple\n",
            "banana\n",
            "cherry\n"
          ]
        }
      ]
    },
    {
      "cell_type": "markdown",
      "source": [
        "#While Loop\n",
        "The while loop executes a set of statements as long as a condition is true."
      ],
      "metadata": {
        "id": "sXMkrcWXpNvU"
      }
    },
    {
      "cell_type": "code",
      "source": [
        "count = 0\n",
        "\n",
        "while count < 5:\n",
        "    print(count)\n",
        "    count += 1\n"
      ],
      "metadata": {
        "colab": {
          "base_uri": "https://localhost:8080/"
        },
        "id": "AfZRkEjMpQYy",
        "outputId": "a3e445d3-2e9b-4926-80aa-553cb2dc2ea8"
      },
      "execution_count": 5,
      "outputs": [
        {
          "output_type": "stream",
          "name": "stdout",
          "text": [
            "0\n",
            "1\n",
            "2\n",
            "3\n",
            "4\n"
          ]
        }
      ]
    },
    {
      "cell_type": "markdown",
      "source": [
        "#Do-While Loop\n",
        "Python does not have a built-in do-while loop, but you can simulate it using a while loop."
      ],
      "metadata": {
        "id": "3KqwwmbVpSZb"
      }
    },
    {
      "cell_type": "code",
      "source": [
        "count = 0\n",
        "\n",
        "while True:\n",
        "    print(count)\n",
        "    count += 1\n",
        "    if count >= 5:\n",
        "        break\n"
      ],
      "metadata": {
        "colab": {
          "base_uri": "https://localhost:8080/"
        },
        "id": "zyBxZivipYoX",
        "outputId": "a7036cf5-eb30-443d-e5f1-7b94f38809e9"
      },
      "execution_count": 6,
      "outputs": [
        {
          "output_type": "stream",
          "name": "stdout",
          "text": [
            "0\n",
            "1\n",
            "2\n",
            "3\n",
            "4\n"
          ]
        }
      ]
    },
    {
      "cell_type": "markdown",
      "source": [
        "#Functions\n",
        "Functions in Python are defined using the def keyword."
      ],
      "metadata": {
        "id": "BCNp5NQ0paHw"
      }
    },
    {
      "cell_type": "code",
      "source": [
        "def greet(name):\n",
        "    return f\"Hello, {name}!\"\n",
        "\n",
        "print(greet(\"Alice\"))\n"
      ],
      "metadata": {
        "colab": {
          "base_uri": "https://localhost:8080/"
        },
        "id": "hAqrdl2hpcXe",
        "outputId": "37237154-f5b8-4878-fca0-5b8495f3a735"
      },
      "execution_count": 7,
      "outputs": [
        {
          "output_type": "stream",
          "name": "stdout",
          "text": [
            "Hello, Alice!\n"
          ]
        }
      ]
    },
    {
      "cell_type": "markdown",
      "source": [
        "#Combining Them All\n",
        "Here is an example that combines if-else, for loop, while loop, and functions:"
      ],
      "metadata": {
        "id": "bYguucV_peCf"
      }
    },
    {
      "cell_type": "code",
      "source": [
        "def classify_number(num):\n",
        "    if num > 0:\n",
        "        if num % 2 == 0:\n",
        "            return \"Positive and even\"\n",
        "        else:\n",
        "            return \"Positive and odd\"\n",
        "    elif num < 0:\n",
        "        return \"Negative\"\n",
        "    else:\n",
        "        return \"Zero\"\n",
        "\n",
        "def print_classifications(numbers):\n",
        "    for number in numbers:\n",
        "        classification = classify_number(number)\n",
        "        print(f\"Number {number} is {classification}\")\n",
        "\n",
        "numbers = [10, -3, 4, 0, 5]\n",
        "print_classifications(numbers)\n",
        "\n",
        "def simulate_do_while():\n",
        "    count = 0\n",
        "    while True:\n",
        "        print(f\"Count is {count}\")\n",
        "        count += 1\n",
        "        if count >= 3:\n",
        "            break\n",
        "\n",
        "simulate_do_while()\n"
      ],
      "metadata": {
        "colab": {
          "base_uri": "https://localhost:8080/"
        },
        "id": "YbvWA-APpjBP",
        "outputId": "7ba034e9-9ddb-4b78-bc02-969216eccafc"
      },
      "execution_count": 8,
      "outputs": [
        {
          "output_type": "stream",
          "name": "stdout",
          "text": [
            "Number 10 is Positive and even\n",
            "Number -3 is Negative\n",
            "Number 4 is Positive and even\n",
            "Number 0 is Zero\n",
            "Number 5 is Positive and odd\n",
            "Count is 0\n",
            "Count is 1\n",
            "Count is 2\n"
          ]
        }
      ]
    },
    {
      "cell_type": "code",
      "source": [],
      "metadata": {
        "id": "OgO90NpDpkZf"
      },
      "execution_count": 8,
      "outputs": []
    },
    {
      "cell_type": "markdown",
      "source": [
        "# Lambda functions,\n",
        "## also known as anonymous functions, are small functions defined using the lambda keyword. They can have any number of arguments but only one expression. The expression is evaluated and returned.\n",
        "\n"
      ],
      "metadata": {
        "id": "qqlFXzhjpwY-"
      }
    },
    {
      "cell_type": "code",
      "source": [
        "lambda arguments: expression"
      ],
      "metadata": {
        "colab": {
          "base_uri": "https://localhost:8080/"
        },
        "id": "Lyb-ggPrp0ff",
        "outputId": "3b1e66cd-3fa0-4661-ba03-8bbdae3c5e10"
      },
      "execution_count": 9,
      "outputs": [
        {
          "output_type": "execute_result",
          "data": {
            "text/plain": [
              "<function __main__.<lambda>(arguments)>"
            ]
          },
          "metadata": {},
          "execution_count": 9
        }
      ]
    },
    {
      "cell_type": "markdown",
      "source": [
        "#Example 1: Basic Lambda Function\n",
        "## A lambda function that adds 10 to a given number."
      ],
      "metadata": {
        "id": "PikkcuPGp3d6"
      }
    },
    {
      "cell_type": "code",
      "source": [
        "add_ten = lambda x: x + 10\n",
        "print(add_ten(5))  # Output: 15"
      ],
      "metadata": {
        "colab": {
          "base_uri": "https://localhost:8080/"
        },
        "id": "d38dAsAzp7JK",
        "outputId": "44d4848a-c8d2-4d51-fa0c-4202de1409dd"
      },
      "execution_count": 10,
      "outputs": [
        {
          "output_type": "stream",
          "name": "stdout",
          "text": [
            "15\n"
          ]
        }
      ]
    },
    {
      "cell_type": "markdown",
      "source": [
        "#Example 2: Lambda Function with Multiple Arguments\n",
        "##A lambda function that multiplies two numbers."
      ],
      "metadata": {
        "id": "b2wDwHUGp_Wl"
      }
    },
    {
      "cell_type": "code",
      "source": [
        "multiply = lambda x, y: x * y\n",
        "print(multiply(3, 4))  # Output: 12"
      ],
      "metadata": {
        "colab": {
          "base_uri": "https://localhost:8080/"
        },
        "id": "s6_zIWxuqBHq",
        "outputId": "5e180a76-442b-497d-a5f5-b51b583aad48"
      },
      "execution_count": 11,
      "outputs": [
        {
          "output_type": "stream",
          "name": "stdout",
          "text": [
            "12\n"
          ]
        }
      ]
    },
    {
      "cell_type": "markdown",
      "source": [
        "#Example 3: Lambda Function within a Function\n",
        "## Lambda functions can be used inside other functions."
      ],
      "metadata": {
        "id": "VPlFo07vqDuT"
      }
    },
    {
      "cell_type": "code",
      "source": [
        "def make_incrementor(n):\n",
        "    return lambda x: x + n\n",
        "\n",
        "increment_by_5 = make_incrementor(5)\n",
        "print(increment_by_5(10))  # Output: 15"
      ],
      "metadata": {
        "colab": {
          "base_uri": "https://localhost:8080/"
        },
        "id": "woXKfUuaqQPF",
        "outputId": "bd5a5e5e-6672-4914-f9ff-e736966de8a0"
      },
      "execution_count": 12,
      "outputs": [
        {
          "output_type": "stream",
          "name": "stdout",
          "text": [
            "15\n"
          ]
        }
      ]
    },
    {
      "cell_type": "markdown",
      "source": [
        "#Example: Mapping with Lambda Functions\n",
        "Using a lambda function with the map function to square each number in a list."
      ],
      "metadata": {
        "id": "MMZh8QtZqlmT"
      }
    },
    {
      "cell_type": "code",
      "source": [
        "numbers = [1, 2, 3, 4, 5]\n",
        "squared_numbers = list(map(lambda x: x ** 2, numbers))\n",
        "print(squared_numbers)  # Output: [1, 4, 9, 16, 25]"
      ],
      "metadata": {
        "colab": {
          "base_uri": "https://localhost:8080/"
        },
        "id": "vG-hR-zGqncf",
        "outputId": "2ae96b4e-4f5e-455c-fcdf-30359b7dbc97"
      },
      "execution_count": 13,
      "outputs": [
        {
          "output_type": "stream",
          "name": "stdout",
          "text": [
            "[1, 4, 9, 16, 25]\n"
          ]
        }
      ]
    },
    {
      "cell_type": "code",
      "source": [],
      "metadata": {
        "id": "hlTgFqlZqDVW"
      },
      "execution_count": 13,
      "outputs": []
    }
  ]
}